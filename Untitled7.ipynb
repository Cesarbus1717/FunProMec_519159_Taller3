{
  "nbformat": 4,
  "nbformat_minor": 0,
  "metadata": {
    "colab": {
      "provenance": [],
      "authorship_tag": "ABX9TyP54QnHiF4IPHjbr/fasdrA",
      "include_colab_link": true
    },
    "kernelspec": {
      "name": "python3",
      "display_name": "Python 3"
    },
    "language_info": {
      "name": "python"
    }
  },
  "cells": [
    {
      "cell_type": "markdown",
      "metadata": {
        "id": "view-in-github",
        "colab_type": "text"
      },
      "source": [
        "<a href=\"https://colab.research.google.com/github/Cesarbus1717/FunProMec_519159_Taller3/blob/main/Untitled7.ipynb\" target=\"_parent\"><img src=\"https://colab.research.google.com/assets/colab-badge.svg\" alt=\"Open In Colab\"/></a>"
      ]
    },
    {
      "cell_type": "code",
      "execution_count": null,
      "metadata": {
        "colab": {
          "base_uri": "https://localhost:8080/",
          "height": 252
        },
        "id": "8NPgmqo22j2b",
        "outputId": "afdefc09-590f-40f8-fec4-c3603ccef26a"
      },
      "outputs": [
        {
          "name": "stdout",
          "output_type": "stream",
          "text": [
            "ingrese su costo de vida como estudiante:25555\n",
            "ingrese su estrato socio economico:1\n",
            "ingrese su lugar de residencia (dentro o fuera de monteria):dentro\n"
          ]
        },
        {
          "output_type": "error",
          "ename": "NameError",
          "evalue": "ignored",
          "traceback": [
            "\u001b[0;31m---------------------------------------------------------------------------\u001b[0m",
            "\u001b[0;31mNameError\u001b[0m                                 Traceback (most recent call last)",
            "\u001b[0;32m<ipython-input-2-c15a74b95470>\u001b[0m in \u001b[0;36m<cell line: 5>\u001b[0;34m()\u001b[0m\n\u001b[1;32m      3\u001b[0m \u001b[0mestrato\u001b[0m\u001b[0;34m=\u001b[0m\u001b[0mint\u001b[0m\u001b[0;34m(\u001b[0m\u001b[0minput\u001b[0m\u001b[0;34m(\u001b[0m\u001b[0;34m\"ingrese su estrato socio economico:\"\u001b[0m\u001b[0;34m)\u001b[0m\u001b[0;34m)\u001b[0m\u001b[0;34m\u001b[0m\u001b[0;34m\u001b[0m\u001b[0m\n\u001b[1;32m      4\u001b[0m \u001b[0mlugar_residencia\u001b[0m\u001b[0;34m=\u001b[0m\u001b[0minput\u001b[0m\u001b[0;34m(\u001b[0m\u001b[0;34m\"ingrese su lugar de residencia (dentro o fuera de monteria):\"\u001b[0m\u001b[0;34m)\u001b[0m\u001b[0;34m\u001b[0m\u001b[0;34m\u001b[0m\u001b[0m\n\u001b[0;32m----> 5\u001b[0;31m \u001b[0medad\u001b[0m\u001b[0;34m\u001b[0m\u001b[0;34m\u001b[0m\u001b[0m\n\u001b[0m",
            "\u001b[0;31mNameError\u001b[0m: name 'edad' is not defined"
          ]
        }
      ],
      "source": [
        "#solicitamos informacion personal del estudiante \n",
        "costo_vida = float(input(\"ingrese su costo de vida como estudiante:\"))\n",
        "estrato = int(input(\"ingrese su estrato socio economico:\"))\n",
        "lugar_residencia=input(\"ingrese su lugar de residencia (dentro o fuera de monteria):\")\n",
        "edad = int(input(\"ingrese su edad :\"))\n",
        "promedio_ponderado=\n",
        "float(input(\"ingrese su promedio academico ponderado proyectado en el semestre: \"))\n",
        "\n",
        "# definimos las variables iniciales \n",
        "total_gastos = 0 \n",
        "transporte = 0\n",
        "alimentacio = 0\n",
        "matricula = 5000000\n",
        "apoyo_transporte = 0\n",
        "apoyo_alimentacion = 0\n",
        "apoyo_alimentacion = 0 \n",
        "\n",
        "#calculamos el costo del transporte segun el lugar de residencia \n",
        "if lugar_residencia==\"Dentro\":\n",
        " transporte=2800*2*20\n",
        "else:\n",
        " transporte=3500*2*20\n",
        "\n",
        " #calculamos el costo de alimentacion y aplicamos los apoyos de chocolove \n",
        " alimentacion= 20000 * 20\n",
        "if estrato == 1:\n",
        "if edad < 18:\n",
        "    apoyo_alimentacion = alimentacion * 0.9\n",
        "\n",
        "    else:\n",
        "\n",
        "    apoyo_alimentacion = alimentacion * 0.7\n",
        "\n",
        "    elif estrato == 2:\n",
        "      if edad < 18:\n",
        "        apoyo_alimentacion = alimentacion * 0.7\n",
        "        else:\n",
        "          apoyo_alimentacion = alimentacion * 0.5\n",
        "\n",
        "\n",
        "    elif estrato == 3:\n",
        "    if edad < 18:\n",
        "    apoyo_alimentacion = alimentacion * 0.5\n",
        "       else:\n",
        "    apoyo_alimentacion = alimentacion * 0.3\n",
        "\n",
        "#calculamos el apoyo de chocolove para el transporte segun el estrato y edad \n",
        "if estrato = 1 \n",
        "  if edad < 18: \n",
        "    apoyo_transporte_transporte = 65000 \n",
        "    else:\n",
        "    apoyo_transporte = 50000\n",
        "\n",
        "    elif:estrato == 2 \n",
        "    if edad < 18: \n",
        "      apoyo_transporte = 45000\n",
        "    else: \n",
        "      apoyo_transporte = 30000\n",
        "    elif estrato == 3: \n",
        "      if edad < 18 \n",
        "      apoyo_transporte = 35000\n",
        "    else: \n",
        "      apoyo_transporte = 20000\n",
        "\n",
        "#aplicamos el apoyo de choclove para la matricula segun el promedio ponderado \n",
        "     if promedio_ponderado > 4.8:\n",
        "       apoyo_alimentacion = matricula \n",
        "     elif promedio_ponderado > 4.5 and \n",
        "    promedio_ponderado < = 4.8: \n",
        "       apoyo_matricula = matricula * 0.7 \n",
        "     elif promedio_ponderado > = 4.0 and \n",
        "    promedio_ponderado < 4.5:\n",
        "       apoyo_matricula = matricula * 0.4 \n",
        "\n",
        " #aplicamos el apoyo de chocolove a los gastos totales \n",
        "\n",
        "      total_gastos -= apoyo_matricula\n",
        "\n",
        " #calculamos el gasto total mensual y lo imprimimos \n",
        "\n",
        "      total_gastos_mensual = total_gastos / 4 \n",
        "\n",
        "      print(\"tu gasto total mensual es de $\",gastos_total_mensual)   \n",
        "       \n",
        "\n",
        "\n",
        "\n",
        "\n",
        "            \n",
        "        "
      ]
    }
  ]
}