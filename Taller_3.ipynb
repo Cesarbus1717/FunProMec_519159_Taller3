{
  "nbformat": 4,
  "nbformat_minor": 0,
  "metadata": {
    "colab": {
      "provenance": [],
      "authorship_tag": "ABX9TyPCvGLswIDvy7fmBaYdNvsg",
      "include_colab_link": true
    },
    "kernelspec": {
      "name": "python3",
      "display_name": "Python 3"
    },
    "language_info": {
      "name": "python"
    }
  },
  "cells": [
    {
      "cell_type": "markdown",
      "metadata": {
        "id": "view-in-github",
        "colab_type": "text"
      },
      "source": [
        "<a href=\"https://colab.research.google.com/github/Cesarbus1717/FunProMec_519159_Taller3/blob/main/Taller_3.ipynb\" target=\"_parent\"><img src=\"https://colab.research.google.com/assets/colab-badge.svg\" alt=\"Open In Colab\"/></a>"
      ]
    },
    {
      "cell_type": "code",
      "execution_count": 5,
      "metadata": {
        "colab": {
          "base_uri": "https://localhost:8080/"
        },
        "id": "8NPgmqo22j2b",
        "outputId": "ecf6ae9c-590a-4acc-8b8c-13c085450c88"
      },
      "outputs": [
        {
          "output_type": "stream",
          "name": "stdout",
          "text": [
            "Ingresa tu estrato socioeconómico: 4\n",
            "¿Vives en Montería? (s/n): s\n",
            "Ingresa tu edad: 18\n",
            "Ingresa tu promedio ponderado proyectado para el semestre: 4\n",
            "El gasto total mensual es de:  5768000\n"
          ]
        }
      ],
      "source": [
        "# Pedimos al usuario que ingrese la información requerida\n",
        "estrato = int(input(\"Ingresa tu estrato socioeconómico: \"))\n",
        "lugar_residencia = input(\"¿Vives en Montería? (s/n): \")\n",
        "edad = int(input(\"Ingresa tu edad: \"))\n",
        "promedio_ponderado = float(input(\"Ingresa tu promedio ponderado proyectado para el semestre: \"))\n",
        "\n",
        "# Calculamos el costo total del transporte\n",
        "if lugar_residencia == \"s\":\n",
        "    costo_transporte = 2800 * 2 * 30 # tarifa diaria ida y regreso * 2 * 30 días\n",
        "else:\n",
        "    costo_transporte = 3500 * 2 * 30\n",
        "\n",
        "# Calculamos el costo total de la alimentación\n",
        "costo_alimentacion = 20000 * 30\n",
        "\n",
        "# Calculamos el costo total de la matrícula\n",
        "costo_matricula = 5000000\n",
        "\n",
        "# Calculamos el apoyo de Chocolove para el transporte\n",
        "if estrato == 1:\n",
        "    if edad < 18:\n",
        "        apoyo_transporte = 65000\n",
        "    else:\n",
        "        apoyo_transporte = 50000\n",
        "elif estrato == 2:\n",
        "    if edad < 18:\n",
        "        apoyo_transporte = 45000\n",
        "    else:\n",
        "        apoyo_transporte = 30000\n",
        "else:\n",
        "    apoyo_transporte = 0\n",
        "\n",
        "# Calculamos el apoyo de Chocolove para la alimentación\n",
        "if estrato == 1:\n",
        "    if edad < 18:\n",
        "        apoyo_alimentacion = costo_alimentacion * 0.9\n",
        "    else:\n",
        "        apoyo_alimentacion = costo_alimentacion * 0.7\n",
        "elif estrato == 2:\n",
        "    if edad < 18:\n",
        "        apoyo_alimentacion = costo_alimentacion * 0.7\n",
        "    else:\n",
        "        apoyo_alimentacion = costo_alimentacion * 0.5\n",
        "else:\n",
        "    apoyo_alimentacion = 0\n",
        "\n",
        "# Calculamos el apoyo de Chocolove para la matrícula\n",
        "if promedio_ponderado > 4.8:\n",
        "    apoyo_matricula = costo_matricula\n",
        "elif promedio_ponderado > 4.5:\n",
        "    apoyo_matricula = costo_matricula * 0.7\n",
        "elif promedio_ponderado > 4.0:\n",
        "    apoyo_matricula = costo_matricula * 0.4\n",
        "else:\n",
        "    apoyo_matricula = 0\n",
        "\n",
        "# Calculamos el gasto total mensual\n",
        "gasto_total = costo_transporte + costo_alimentacion + costo_matricula - apoyo_transporte - apoyo_alimentacion + apoyo_matricula\n",
        "\n",
        "# Imprimimos el gasto total mensual\n",
        "print(\"El gasto total mensual es de: \", gasto_total)\n",
        "\n",
        "        "
      ]
    },
    {
      "cell_type": "code",
      "source": [],
      "metadata": {
        "id": "rchtTlalKFi9"
      },
      "execution_count": null,
      "outputs": []
    }
  ]
}